{
 "cells": [
  {
   "cell_type": "code",
   "execution_count": null,
   "id": "764a1efb-c34a-40e5-b34e-850aabaedd44",
   "metadata": {},
   "outputs": [],
   "source": [
    "#Q1. Which keyword is used to create a function? Create a function to return a list of odd numbers in the range of 1 to 25.\n",
    "\n",
    "\"In Python, the def keyword is used to create a function.\"\n",
    "def odd_num():\n",
    "    result = []\n",
    "    for i in range(1, 26):\n",
    "        if i % 2 != 0:\n",
    "            result.append(i)\n",
    "    return result\n",
    "\n",
    "print(odd_num())"
   ]
  },
  {
   "cell_type": "code",
   "execution_count": null,
   "id": "9b1c4931-7cc4-48c2-bcf6-b7b70e360bfa",
   "metadata": {},
   "outputs": [],
   "source": [
    "#Q2. Why *args and **kwargs is used in some functions? Create a function each for *args and **kwargs to demonstrate their use.\n",
    "\n",
    "'''The 'args' and 'kwargs' syntax are used to pass variable number of arguments to a function.The 'args' syntax is used to pass a variable number of \n",
    "non-keyword arguments, while the 'kwargs' syntax is used to pass a variable number of keyword arguments.\n",
    "'''\n",
    "#Example of 'args'\n",
    "def my_sum(*args):\n",
    "    result = 0\n",
    "    for arg in args:\n",
    "        result += arg\n",
    "    return result\n",
    "\n",
    "print(my_sum(1, 2, 3)) # 6\n",
    "print(my_sum(1, 2, 3, 4, 5)) # 15\n",
    "\n",
    "#An example of 'kwargs':\n",
    "def greet(**kwargs):\n",
    "    for key, value in kwargs.items():\n",
    "        print(f\"{key}: {value}\")\n",
    "\n",
    "greet(name=\"John\", age=30, location=\"New York\")"
   ]
  },
  {
   "cell_type": "code",
   "execution_count": null,
   "id": "537095e2-a64b-4d5c-bcd1-abe08517bfad",
   "metadata": {
    "tags": []
   },
   "outputs": [],
   "source": [
    "#Q3. What is an iterator in python? Name the method used to initialise the iterator object and the method\n",
    "#used for iteration. Use these methods to print the first five elements of the given list [2, 4, 6, 8, 10, 12, 14, 16,18, 20].\n",
    "'''\n",
    "An iterator in Python is an object that can be iterated (looped) upon. An object which will return data, one element at a time.\n",
    "In Python, the __iter__() method is used to initialize the iterator object, and the __next__() method is used for iteration.\n",
    "These two methods are collectively called the iterator protocol.\n",
    "'''\n",
    "my_list = [2, 4, 6, 8, 10, 12, 14, 16, 18, 20]\n",
    "\n",
    "my_iterator = iter(my_list)\n",
    "\n",
    "for i in range(5):\n",
    "    print(next(my_iterator))\n"
   ]
  },
  {
   "cell_type": "code",
   "execution_count": null,
   "id": "1845b3f3-7a73-431c-a200-acdb0e188f23",
   "metadata": {
    "tags": []
   },
   "outputs": [],
   "source": [
    "#Q4. What is a generator function in python? Why yield keyword is used? Give an example of a generator function.\n",
    "'''\n",
    "A generator function in Python is a special type of function that returns an iterator. Instead of using the return keyword to return a value, \n",
    "a generator function uses the yield keyword to produce a series of values. When a generator function is called, it returns an iterator object that\n",
    "can be used to iterate over the generated values.\n",
    "'''\n",
    "\n",
    "def fibonacci(n):\n",
    "    a, b = 0, 1\n",
    "    for _ in range(n):\n",
    "        yield a\n",
    "        a, b = b, a + b\n",
    "\n",
    "for i in fibonacci(10):\n",
    "    print(i)"
   ]
  },
  {
   "cell_type": "code",
   "execution_count": 17,
   "id": "20de1171-6344-4a3b-9e89-bd36170a11a7",
   "metadata": {},
   "outputs": [
    {
     "ename": "NameError",
     "evalue": "name 'n' is not defined",
     "output_type": "error",
     "traceback": [
      "\u001b[0;31m---------------------------------------------------------------------------\u001b[0m",
      "\u001b[0;31mNameError\u001b[0m                                 Traceback (most recent call last)",
      "Cell \u001b[0;32mIn[17], line 9\u001b[0m\n\u001b[1;32m      7\u001b[0m         result\u001b[38;5;241m.\u001b[39mappend(i)\n\u001b[1;32m      8\u001b[0m         \u001b[38;5;28;01mreturn\u001b[39;00m result \n\u001b[0;32m----> 9\u001b[0m \u001b[38;5;28mprint\u001b[39m(prime_num(\u001b[43mn\u001b[49m))\n",
      "\u001b[0;31mNameError\u001b[0m: name 'n' is not defined"
     ]
    }
   ],
   "source": [
    "#Q5. Create a generator function for prime numbers less than 1000. Use the next() method to print the first 20 prime numbers.\n",
    "\n",
    "def prime_num(n):\n",
    "    result=[]\n",
    "    for i in range(n):\n",
    "     if i % 2 == 0:\n",
    "        result.append(i)\n",
    "        return result \n",
    "print(prime_num(n))\n",
    "        "
   ]
  },
  {
   "cell_type": "code",
   "execution_count": null,
   "id": "b4f5628b-b80b-4180-9290-507975998ccc",
   "metadata": {},
   "outputs": [],
   "source": []
  }
 ],
 "metadata": {
  "kernelspec": {
   "display_name": "Python 3 (ipykernel)",
   "language": "python",
   "name": "python3"
  },
  "language_info": {
   "codemirror_mode": {
    "name": "ipython",
    "version": 3
   },
   "file_extension": ".py",
   "mimetype": "text/x-python",
   "name": "python",
   "nbconvert_exporter": "python",
   "pygments_lexer": "ipython3",
   "version": "3.10.8"
  }
 },
 "nbformat": 4,
 "nbformat_minor": 5
}
